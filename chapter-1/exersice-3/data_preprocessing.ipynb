{
 "cells": [
  {
   "cell_type": "code",
   "execution_count": 1,
   "metadata": {},
   "outputs": [],
   "source": [
    "tickers_name = []\n",
    "\n",
    "with open('stocks_tickers_600_all.txt', 'r') as f:\n",
    "    read_data = f.readlines()\n",
    "    for line in read_data:\n",
    "        tickers_name.append(line.split(\"\\t\")[0])\n",
    "\n",
    "with open('stocks_tickers_600.txt', 'w') as f:\n",
    "    f.write(' '.join(tickers_name))"
   ]
  }
 ],
 "metadata": {
  "kernelspec": {
   "display_name": "Python 3",
   "language": "python",
   "name": "python3"
  },
  "language_info": {
   "codemirror_mode": {
    "name": "ipython",
    "version": 3
   },
   "file_extension": ".py",
   "mimetype": "text/x-python",
   "name": "python",
   "nbconvert_exporter": "python",
   "pygments_lexer": "ipython3",
   "version": "3.6.7"
  }
 },
 "nbformat": 4,
 "nbformat_minor": 2
}
